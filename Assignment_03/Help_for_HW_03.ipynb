{
  "nbformat": 4,
  "nbformat_minor": 0,
  "metadata": {
    "colab": {
      "name": "Help_for_HW-03.ipynb",
      "provenance": [],
      "authorship_tag": "ABX9TyNYuyxc2evEdDzH/wOvID6s",
      "include_colab_link": true
    },
    "kernelspec": {
      "name": "python3",
      "display_name": "Python 3"
    },
    "language_info": {
      "name": "python"
    }
  },
  "cells": [
    {
      "cell_type": "markdown",
      "metadata": {
        "id": "view-in-github",
        "colab_type": "text"
      },
      "source": [
        "<a href=\"https://colab.research.google.com/github/SnigdhaPanakanti/Snigdha_DATA690/blob/main/Assignment_03/Help_for_HW_03.ipynb\" target=\"_parent\"><img src=\"https://colab.research.google.com/assets/colab-badge.svg\" alt=\"Open In Colab\"/></a>"
      ]
    },
    {
      "cell_type": "markdown",
      "source": [
        "# In- Class Practice\n",
        "## Hw-03\n",
        "\n",
        "- Name: Snigdha Panakanti\n",
        "- Dete: 02/14/2022"
      ],
      "metadata": {
        "id": "ZINc8XI43I0T"
      }
    },
    {
      "cell_type": "code",
      "source": [
        "import random"
      ],
      "metadata": {
        "id": "tI3F7y1Xzf3e"
      },
      "execution_count": 11,
      "outputs": []
    },
    {
      "cell_type": "code",
      "execution_count": 1,
      "metadata": {
        "colab": {
          "base_uri": "https://localhost:8080/"
        },
        "id": "eP4B9XMNw-iu",
        "outputId": "e5178f52-a0e1-4a20-d25e-fcef6cdd1576"
      },
      "outputs": [
        {
          "output_type": "stream",
          "name": "stdout",
          "text": [
            "[2, 5, 8, 1, 'Snigdha']\n"
          ]
        }
      ],
      "source": [
        "x = [2,5,8,1,\"Snigdha\"]\n",
        "print(x)"
      ]
    },
    {
      "cell_type": "code",
      "source": [
        "for i in x:\n",
        "  print(i)"
      ],
      "metadata": {
        "colab": {
          "base_uri": "https://localhost:8080/"
        },
        "id": "MvJjxQCCxNMn",
        "outputId": "3d040477-bd25-4eb7-e1e0-f5562997bda0"
      },
      "execution_count": 5,
      "outputs": [
        {
          "output_type": "stream",
          "name": "stdout",
          "text": [
            "2\n",
            "5\n",
            "8\n",
            "1\n",
            "Snigdha\n"
          ]
        }
      ]
    },
    {
      "cell_type": "code",
      "source": [
        "5 in x"
      ],
      "metadata": {
        "colab": {
          "base_uri": "https://localhost:8080/"
        },
        "id": "Rq8gTZUpxv_x",
        "outputId": "da00bc31-1b63-43fb-90c3-5967193fe540"
      },
      "execution_count": 3,
      "outputs": [
        {
          "output_type": "execute_result",
          "data": {
            "text/plain": [
              "True"
            ]
          },
          "metadata": {},
          "execution_count": 3
        }
      ]
    },
    {
      "cell_type": "code",
      "source": [
        "if 5 in x:\n",
        "  print(\"5 is a number in list x\")\n",
        "else:\n",
        "  print(\"5 is not a number in x\")"
      ],
      "metadata": {
        "colab": {
          "base_uri": "https://localhost:8080/"
        },
        "id": "BjCmIaaMxyqK",
        "outputId": "b4600a9f-53e0-48f1-ad59-0fedf384f245"
      },
      "execution_count": 4,
      "outputs": [
        {
          "output_type": "stream",
          "name": "stdout",
          "text": [
            "5 is a number in list x\n"
          ]
        }
      ]
    },
    {
      "cell_type": "code",
      "source": [
        "y = [5, 1, 5, 6, 2, 7, 8, 6, 4, 2 ]\n",
        "print(y)"
      ],
      "metadata": {
        "colab": {
          "base_uri": "https://localhost:8080/"
        },
        "id": "9SwsboL4yhix",
        "outputId": "061c39a5-f9b1-482e-8d35-264786907d37"
      },
      "execution_count": 6,
      "outputs": [
        {
          "output_type": "stream",
          "name": "stdout",
          "text": [
            "[5, 1, 5, 6, 2, 7, 8, 6, 4, 2]\n"
          ]
        }
      ]
    },
    {
      "cell_type": "code",
      "source": [
        "for i in y:\n",
        "  print (i)"
      ],
      "metadata": {
        "colab": {
          "base_uri": "https://localhost:8080/"
        },
        "id": "YUclRQXKy_Ij",
        "outputId": "c09f26c3-1c2d-4daa-ea3e-584e6fb13bb1"
      },
      "execution_count": 7,
      "outputs": [
        {
          "output_type": "stream",
          "name": "stdout",
          "text": [
            "5\n",
            "1\n",
            "5\n",
            "6\n",
            "2\n",
            "7\n",
            "8\n",
            "6\n",
            "4\n",
            "2\n"
          ]
        }
      ]
    },
    {
      "cell_type": "code",
      "source": [
        "for i in y:\n",
        "  print (i, end=\" \")"
      ],
      "metadata": {
        "colab": {
          "base_uri": "https://localhost:8080/"
        },
        "id": "2rHyYPdmzEfR",
        "outputId": "389de4c3-b2a0-41bc-8c1e-a1c747a93b90"
      },
      "execution_count": 8,
      "outputs": [
        {
          "output_type": "stream",
          "name": "stdout",
          "text": [
            "5 1 5 6 2 7 8 6 4 2 "
          ]
        }
      ]
    },
    {
      "cell_type": "code",
      "source": [
        "for i in x:\n",
        "  print(i, end=\" * \")"
      ],
      "metadata": {
        "colab": {
          "base_uri": "https://localhost:8080/"
        },
        "id": "1aqRmYgDzYy-",
        "outputId": "7b4adaa5-e62f-460f-ee78-99b663da3e36"
      },
      "execution_count": 10,
      "outputs": [
        {
          "output_type": "stream",
          "name": "stdout",
          "text": [
            "2 * 5 * 8 * 1 * Snigdha * "
          ]
        }
      ]
    },
    {
      "cell_type": "code",
      "source": [
        "random.randint(0,9)"
      ],
      "metadata": {
        "colab": {
          "base_uri": "https://localhost:8080/"
        },
        "id": "OsWxm8XFz4vm",
        "outputId": "3dcdc373-51d5-4db4-cba8-4dcd22a146ad"
      },
      "execution_count": 21,
      "outputs": [
        {
          "output_type": "execute_result",
          "data": {
            "text/plain": [
              "4"
            ]
          },
          "metadata": {},
          "execution_count": 21
        }
      ]
    },
    {
      "cell_type": "code",
      "source": [
        "for i in range(10):\n",
        "  a = random.randint(0,9)\n",
        "  print(a, end=\" \")"
      ],
      "metadata": {
        "colab": {
          "base_uri": "https://localhost:8080/"
        },
        "id": "8zLu-DaJ0ByO",
        "outputId": "1ed861b6-1965-49df-87cf-b51bec3c8160"
      },
      "execution_count": 25,
      "outputs": [
        {
          "output_type": "stream",
          "name": "stdout",
          "text": [
            "0 4 5 7 8 5 3 5 5 4 "
          ]
        }
      ]
    },
    {
      "cell_type": "code",
      "source": [
        "for j in range(10):\n",
        "  for i in range(10):\n",
        "    a = random.randint(0,9)\n",
        "    print(a, end=\" \")\n",
        "  print()\n",
        "  #print(j) or print(i)\n",
        "  #print(\"\")\n",
        "  #print(\"\\n\", end=\"\")"
      ],
      "metadata": {
        "colab": {
          "base_uri": "https://localhost:8080/"
        },
        "id": "gdyvFTT8002y",
        "outputId": "cb013fa4-1707-4816-8c7e-fd188dd51958"
      },
      "execution_count": 33,
      "outputs": [
        {
          "output_type": "stream",
          "name": "stdout",
          "text": [
            "1 2 0 2 7 0 2 3 0 2 \n",
            "4 4 8 1 9 4 6 2 2 7 \n",
            "1 6 8 9 5 3 7 4 6 0 \n",
            "2 2 7 5 7 1 1 1 7 1 \n",
            "4 7 6 0 4 6 7 1 4 1 \n",
            "5 2 1 7 7 0 6 8 2 3 \n",
            "3 2 3 8 4 1 4 1 4 2 \n",
            "5 1 9 5 5 2 2 7 4 9 \n",
            "4 4 2 8 8 7 1 3 2 5 \n",
            "4 2 7 2 1 2 4 9 9 2 \n"
          ]
        }
      ]
    },
    {
      "cell_type": "code",
      "source": [
        ""
      ],
      "metadata": {
        "id": "Am9t7u271gVg"
      },
      "execution_count": null,
      "outputs": []
    }
  ]
}