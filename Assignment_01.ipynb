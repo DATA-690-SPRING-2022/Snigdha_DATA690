{
  "nbformat": 4,
  "nbformat_minor": 0,
  "metadata": {
    "colab": {
      "name": "Assignment_01.ipynb",
      "provenance": [],
      "authorship_tag": "ABX9TyMnkjLFtXy7gncfiGChQD9I",
      "include_colab_link": true
    },
    "kernelspec": {
      "name": "python3",
      "display_name": "Python 3"
    },
    "language_info": {
      "name": "python"
    }
  },
  "cells": [
    {
      "cell_type": "markdown",
      "metadata": {
        "id": "view-in-github",
        "colab_type": "text"
      },
      "source": [
        "<a href=\"https://colab.research.google.com/github/SnigdhaPanakanti/Assignment01/blob/main/Assignment_01.ipynb\" target=\"_parent\"><img src=\"https://colab.research.google.com/assets/colab-badge.svg\" alt=\"Open In Colab\"/></a>"
      ]
    },
    {
      "cell_type": "markdown",
      "source": [
        "# DATA 690 In-Class Practice\n",
        "\n",
        "\n",
        "\n",
        "*   Name: **Snigdha Panakanti**\n",
        "*   Date: **01/31/2022**\n",
        "*   Session: **01**\n",
        "\n",
        "\n"
      ],
      "metadata": {
        "id": "1aGT8KL8NVNC"
      }
    },
    {
      "cell_type": "code",
      "source": [
        "print(\"Hello!\")"
      ],
      "metadata": {
        "colab": {
          "base_uri": "https://localhost:8080/"
        },
        "id": "kroMlDMwN-Nn",
        "outputId": "fa989274-a47b-481d-d843-cdce7e1da775"
      },
      "execution_count": 1,
      "outputs": [
        {
          "output_type": "stream",
          "name": "stdout",
          "text": [
            "Hello!\n"
          ]
        }
      ]
    },
    {
      "cell_type": "markdown",
      "source": [
        "### Addition:"
      ],
      "metadata": {
        "id": "WysmhzbyQel2"
      }
    },
    {
      "cell_type": "code",
      "source": [
        "x = 10\n",
        "y = 20\n",
        "z = x + y\n",
        "print(\"z =\", z)"
      ],
      "metadata": {
        "colab": {
          "base_uri": "https://localhost:8080/"
        },
        "id": "ydmQqDR4OB7a",
        "outputId": "23c2617c-c08f-4f70-c99e-9ba47ef90016"
      },
      "execution_count": null,
      "outputs": [
        {
          "output_type": "stream",
          "name": "stdout",
          "text": [
            "z = 30\n"
          ]
        }
      ]
    },
    {
      "cell_type": "markdown",
      "source": [
        "### Multiplication:"
      ],
      "metadata": {
        "id": "6Fdx3v39QdRf"
      }
    },
    {
      "cell_type": "code",
      "source": [
        "x = 2\n",
        "y = 3\n",
        "z = x*y\n",
        "print(\"z =\",z)"
      ],
      "metadata": {
        "id": "SrEctjOyOcCR",
        "colab": {
          "base_uri": "https://localhost:8080/"
        },
        "outputId": "6a90eaba-b74d-48fc-ba6c-67ef00c53f2b"
      },
      "execution_count": 3,
      "outputs": [
        {
          "output_type": "stream",
          "name": "stdout",
          "text": [
            "z = 6\n"
          ]
        }
      ]
    },
    {
      "cell_type": "markdown",
      "source": [
        "### Division:"
      ],
      "metadata": {
        "id": "gTVsuf9IQ9iz"
      }
    },
    {
      "cell_type": "code",
      "source": [
        "x = 9/3\n",
        "print(\"x =\",x)"
      ],
      "metadata": {
        "colab": {
          "base_uri": "https://localhost:8080/"
        },
        "id": "O3BapqvoQ55f",
        "outputId": "49bbb6b6-5938-4df7-a745-d1fce0de0b6d"
      },
      "execution_count": 4,
      "outputs": [
        {
          "output_type": "stream",
          "name": "stdout",
          "text": [
            "x = 3.0\n"
          ]
        }
      ]
    },
    {
      "cell_type": "code",
      "source": [
        ""
      ],
      "metadata": {
        "id": "kxHWIraaRLjX"
      },
      "execution_count": null,
      "outputs": []
    }
  ]
}