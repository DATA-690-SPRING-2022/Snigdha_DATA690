{
  "nbformat": 4,
  "nbformat_minor": 0,
  "metadata": {
    "colab": {
      "name": "Assignment_04 (Part-A).ipynb",
      "provenance": [],
      "collapsed_sections": [],
      "authorship_tag": "ABX9TyNkiAKMg2xdLVz+orP2YJKY",
      "include_colab_link": true
    },
    "kernelspec": {
      "name": "python3",
      "display_name": "Python 3"
    },
    "language_info": {
      "name": "python"
    }
  },
  "cells": [
    {
      "cell_type": "markdown",
      "metadata": {
        "id": "view-in-github",
        "colab_type": "text"
      },
      "source": [
        "<a href=\"https://colab.research.google.com/github/SnigdhaPanakanti/Snigdha_DATA690/blob/main/Assignment_04/Assignment_04_(Part_A).ipynb\" target=\"_parent\"><img src=\"https://colab.research.google.com/assets/colab-badge.svg\" alt=\"Open In Colab\"/></a>"
      ]
    },
    {
      "cell_type": "markdown",
      "source": [
        "# Assignment - 04\n",
        "\n",
        "### PART A - Using Python\n",
        "\n",
        "DATE: 02/24/2022 <br/>\n",
        "Name: Snigdha Panakanti"
      ],
      "metadata": {
        "id": "bRuRjgE8jRR2"
      }
    },
    {
      "cell_type": "markdown",
      "source": [
        "1. Code to open \"census_costs.txt\" file and read all lines into a list named 'line_list':"
      ],
      "metadata": {
        "id": "7NdR11_u-urh"
      }
    },
    {
      "cell_type": "code",
      "source": [
        "with open(\"census_costs.txt\",\"r\") as f:\n",
        "    line_list = f.readlines()\n",
        "\n",
        "line_list"
      ],
      "metadata": {
        "colab": {
          "base_uri": "https://localhost:8080/"
        },
        "id": "ELARrcvqlUKu",
        "outputId": "4303eb3a-c16d-44d7-c65b-030f8cf37c88"
      },
      "execution_count": 1,
      "outputs": [
        {
          "output_type": "execute_result",
          "data": {
            "text/plain": [
              "['Source: https://www.genealogybranches.com/censuscosts.html\\n',\n",
              " 'Census Year\\tTotal Population\\tCensus Cost\\tAverage Cost Per Person\\n',\n",
              " '1790\\t3,929,214\\t$44,377\\t1.13 cents\\n',\n",
              " '1800\\t5,308,483\\t$66,109\\t1.24 cents\\n',\n",
              " '1810\\t7,239,881\\t$178,445\\t2.46 cents\\n',\n",
              " '1820\\t9,633,822\\t$208,526\\t2.16 cents\\n',\n",
              " '1830\\t12,866,020\\t$378,545\\t2.94 cents\\n',\n",
              " '1840\\t17,069,458\\t$833,371\\t4.88 cents\\n',\n",
              " '1850\\t23,191,876\\t$1,423,351\\t6.14 cents\\n',\n",
              " '1860\\t31,443,321\\t$1,969,377\\t6.26 cents\\n',\n",
              " '1870\\t38,558,371\\t$3,421,198\\t8.87 cents\\n',\n",
              " '1880\\t50,155,783\\t$5,790,678\\t11.54 cents\\n',\n",
              " '1890\\t62,979,766\\t$11,547,127\\t18.33 cents\\n',\n",
              " '1900\\t76,303,387\\t$11,854,000\\t15.54 cents\\n',\n",
              " '1910\\t91,972,266\\t$15,968,000\\t17.07 cents\\n',\n",
              " '1920\\t105,710,620\\t$25,117,000\\t23.76 cents\\n',\n",
              " '1930\\t122,775,046\\t$40,156,000\\t32.71 cents\\n',\n",
              " '1940\\t131,669,275\\t$67,527,000\\t51.29 cents\\n',\n",
              " '1950\\t151,325,798\\t$91,462,000\\t60.44 cents\\n',\n",
              " '1960\\t179,323,175\\t$127,934,000\\t71.34 cents\\n',\n",
              " '1970\\t203,302,031\\t$247,653,000\\t$1.22\\n',\n",
              " '1980\\t226,542,199\\t$1,078,488,000\\t$4.76\\n',\n",
              " '1990\\t248,718,301\\t$2,492,830,000\\t$10.02\\n',\n",
              " '2000\\t281,421,906\\t$4.5 Billion\\t$15.99\\n',\n",
              " '2010*\\t308,745,538\\t$13 Billion\\t$42.11\\n']"
            ]
          },
          "metadata": {},
          "execution_count": 1
        }
      ]
    },
    {
      "cell_type": "code",
      "source": [
        "len(line_list)"
      ],
      "metadata": {
        "colab": {
          "base_uri": "https://localhost:8080/"
        },
        "id": "1Q_sjuialyT5",
        "outputId": "ed9f49b2-c048-49ef-f323-f15982aaf213"
      },
      "execution_count": 2,
      "outputs": [
        {
          "output_type": "execute_result",
          "data": {
            "text/plain": [
              "25"
            ]
          },
          "metadata": {},
          "execution_count": 2
        }
      ]
    },
    {
      "cell_type": "markdown",
      "source": [
        "2. Extracting first 2 lines into a different list named 'top2_list':"
      ],
      "metadata": {
        "id": "06Ml6xOg_Ip3"
      }
    },
    {
      "cell_type": "code",
      "source": [
        "top2_list = line_list[0:2]\n",
        "top2_list"
      ],
      "metadata": {
        "colab": {
          "base_uri": "https://localhost:8080/"
        },
        "id": "QY3_QDMF7KkJ",
        "outputId": "dc20624b-057e-4138-bafe-2980430f9cb6"
      },
      "execution_count": 3,
      "outputs": [
        {
          "output_type": "execute_result",
          "data": {
            "text/plain": [
              "['Source: https://www.genealogybranches.com/censuscosts.html\\n',\n",
              " 'Census Year\\tTotal Population\\tCensus Cost\\tAverage Cost Per Person\\n']"
            ]
          },
          "metadata": {},
          "execution_count": 3
        }
      ]
    },
    {
      "cell_type": "markdown",
      "source": [
        "3. Putting rest of the lines in 'data_list':"
      ],
      "metadata": {
        "id": "VzR-cAT3_iM7"
      }
    },
    {
      "cell_type": "code",
      "source": [
        "data_list = line_list[2:]\n",
        "data_list"
      ],
      "metadata": {
        "colab": {
          "base_uri": "https://localhost:8080/"
        },
        "id": "lYh6w9oA7SaO",
        "outputId": "6cd030df-5967-4f1a-844a-e763c31c0b1b"
      },
      "execution_count": 4,
      "outputs": [
        {
          "output_type": "execute_result",
          "data": {
            "text/plain": [
              "['1790\\t3,929,214\\t$44,377\\t1.13 cents\\n',\n",
              " '1800\\t5,308,483\\t$66,109\\t1.24 cents\\n',\n",
              " '1810\\t7,239,881\\t$178,445\\t2.46 cents\\n',\n",
              " '1820\\t9,633,822\\t$208,526\\t2.16 cents\\n',\n",
              " '1830\\t12,866,020\\t$378,545\\t2.94 cents\\n',\n",
              " '1840\\t17,069,458\\t$833,371\\t4.88 cents\\n',\n",
              " '1850\\t23,191,876\\t$1,423,351\\t6.14 cents\\n',\n",
              " '1860\\t31,443,321\\t$1,969,377\\t6.26 cents\\n',\n",
              " '1870\\t38,558,371\\t$3,421,198\\t8.87 cents\\n',\n",
              " '1880\\t50,155,783\\t$5,790,678\\t11.54 cents\\n',\n",
              " '1890\\t62,979,766\\t$11,547,127\\t18.33 cents\\n',\n",
              " '1900\\t76,303,387\\t$11,854,000\\t15.54 cents\\n',\n",
              " '1910\\t91,972,266\\t$15,968,000\\t17.07 cents\\n',\n",
              " '1920\\t105,710,620\\t$25,117,000\\t23.76 cents\\n',\n",
              " '1930\\t122,775,046\\t$40,156,000\\t32.71 cents\\n',\n",
              " '1940\\t131,669,275\\t$67,527,000\\t51.29 cents\\n',\n",
              " '1950\\t151,325,798\\t$91,462,000\\t60.44 cents\\n',\n",
              " '1960\\t179,323,175\\t$127,934,000\\t71.34 cents\\n',\n",
              " '1970\\t203,302,031\\t$247,653,000\\t$1.22\\n',\n",
              " '1980\\t226,542,199\\t$1,078,488,000\\t$4.76\\n',\n",
              " '1990\\t248,718,301\\t$2,492,830,000\\t$10.02\\n',\n",
              " '2000\\t281,421,906\\t$4.5 Billion\\t$15.99\\n',\n",
              " '2010*\\t308,745,538\\t$13 Billion\\t$42.11\\n']"
            ]
          },
          "metadata": {},
          "execution_count": 4
        }
      ]
    },
    {
      "cell_type": "markdown",
      "source": [
        "4. Extracting the column 'Census Year' from the data_list into 'year_list' and removing '*' from the last element:"
      ],
      "metadata": {
        "id": "7l03ZZV4_qFh"
      }
    },
    {
      "cell_type": "code",
      "source": [
        "year_list = []\n",
        "\n",
        "for line in data_list:\n",
        "    year = line[0:4]\n",
        "    year_list.append(year)\n",
        "print(year_list)"
      ],
      "metadata": {
        "colab": {
          "base_uri": "https://localhost:8080/"
        },
        "id": "669KvVuj7fxN",
        "outputId": "7b66d6b4-0083-4485-df46-dafbc177e3a3"
      },
      "execution_count": 5,
      "outputs": [
        {
          "output_type": "stream",
          "name": "stdout",
          "text": [
            "['1790', '1800', '1810', '1820', '1830', '1840', '1850', '1860', '1870', '1880', '1890', '1900', '1910', '1920', '1930', '1940', '1950', '1960', '1970', '1980', '1990', '2000', '2010']\n"
          ]
        }
      ]
    },
    {
      "cell_type": "markdown",
      "source": [
        "5. Extracting 'Total Population' column from data_list to 'pop_list':"
      ],
      "metadata": {
        "id": "NfY7VZc9AJId"
      }
    },
    {
      "cell_type": "code",
      "source": [
        "pop_list = []\n",
        "for line in data_list:\n",
        "    part_list = line.split(\"\\t\")\n",
        "    pop = part_list[1]\n",
        "    pop_list.append(pop)\n",
        "print(pop_list)"
      ],
      "metadata": {
        "colab": {
          "base_uri": "https://localhost:8080/"
        },
        "id": "ggcc8tO67v5r",
        "outputId": "ea3d1bbf-9b3d-46de-d0c6-634175e0f918"
      },
      "execution_count": 6,
      "outputs": [
        {
          "output_type": "stream",
          "name": "stdout",
          "text": [
            "['3,929,214', '5,308,483', '7,239,881', '9,633,822', '12,866,020', '17,069,458', '23,191,876', '31,443,321', '38,558,371', '50,155,783', '62,979,766', '76,303,387', '91,972,266', '105,710,620', '122,775,046', '131,669,275', '151,325,798', '179,323,175', '203,302,031', '226,542,199', '248,718,301', '281,421,906', '308,745,538']\n"
          ]
        }
      ]
    },
    {
      "cell_type": "markdown",
      "source": [
        "- Cleansing the data in 'pop_list' by removing ',' from the elements:"
      ],
      "metadata": {
        "id": "ntyf3YHPAa8O"
      }
    },
    {
      "cell_type": "code",
      "source": [
        "cleansed_pop_list = []\n",
        "\n",
        "for pop in pop_list:\n",
        "    cleansed_pop = pop.replace(\",\",\"\")\n",
        "    cleansed_pop_list.append(int(cleansed_pop))\n",
        "print(cleansed_pop)"
      ],
      "metadata": {
        "colab": {
          "base_uri": "https://localhost:8080/"
        },
        "id": "BWb-F8477w-N",
        "outputId": "1962512f-f53e-45c3-cc62-c22c57d6402d"
      },
      "execution_count": 7,
      "outputs": [
        {
          "output_type": "stream",
          "name": "stdout",
          "text": [
            "308745538\n"
          ]
        }
      ]
    },
    {
      "cell_type": "markdown",
      "source": [
        "6. Extracting 'Census Cost' column from data_list to 'cost_list':"
      ],
      "metadata": {
        "id": "4XZ_fx7JAlQo"
      }
    },
    {
      "cell_type": "code",
      "source": [
        "cost_list = []\n",
        "for line in data_list:\n",
        "    part_list = line.split(\"\\t\")\n",
        "    cost = part_list[2]\n",
        "    cost_list.append(cost)\n",
        "print(cost_list)"
      ],
      "metadata": {
        "colab": {
          "base_uri": "https://localhost:8080/"
        },
        "id": "-i6x5JRJ8T0Y",
        "outputId": "db239de8-3e5b-4fd6-db58-617612978bcf"
      },
      "execution_count": 8,
      "outputs": [
        {
          "output_type": "stream",
          "name": "stdout",
          "text": [
            "['$44,377', '$66,109', '$178,445', '$208,526', '$378,545', '$833,371', '$1,423,351', '$1,969,377', '$3,421,198', '$5,790,678', '$11,547,127', '$11,854,000', '$15,968,000', '$25,117,000', '$40,156,000', '$67,527,000', '$91,462,000', '$127,934,000', '$247,653,000', '$1,078,488,000', '$2,492,830,000', '$4.5 Billion', '$13 Billion']\n"
          ]
        }
      ]
    },
    {
      "cell_type": "markdown",
      "source": [
        "- Cleansing the 'cost_list' by removing '$', '.' , ' ' , ','  and replacing 'Billion' with 0's:"
      ],
      "metadata": {
        "id": "A9oAOf44Avus"
      }
    },
    {
      "cell_type": "code",
      "source": [
        "cleansed_cost_list = []\n",
        "\n",
        "for cost in cost_list:\n",
        "    cleansed_cost = cost.replace(\",\",\"\").replace(\".\",\"\").replace(\" \",\"\").replace(\"Billion\",\"000000000\")\n",
        "    cleansed_cost_list.append(cleansed_cost[1:])\n",
        "print(cleansed_cost_list) "
      ],
      "metadata": {
        "colab": {
          "base_uri": "https://localhost:8080/"
        },
        "id": "R7QP9Kyq9TcD",
        "outputId": "f0e5f29d-fc93-443f-dd88-8e5c4467b325"
      },
      "execution_count": 9,
      "outputs": [
        {
          "output_type": "stream",
          "name": "stdout",
          "text": [
            "['44377', '66109', '178445', '208526', '378545', '833371', '1423351', '1969377', '3421198', '5790678', '11547127', '11854000', '15968000', '25117000', '40156000', '67527000', '91462000', '127934000', '247653000', '1078488000', '2492830000', '45000000000', '13000000000']\n"
          ]
        }
      ]
    },
    {
      "cell_type": "markdown",
      "source": [
        "7. Extracting 'Average Cost Per Person' from the data_list into 'avg_list':"
      ],
      "metadata": {
        "id": "MepxVyWXBjaf"
      }
    },
    {
      "cell_type": "code",
      "source": [
        "avg_list = []\n",
        "for line in data_list:\n",
        "    part_list = line.split(\"\\t\")\n",
        "    avg_cost = part_list[3]\n",
        "    avg_list.append(avg_cost[:-1])\n",
        "print(avg_list)"
      ],
      "metadata": {
        "colab": {
          "base_uri": "https://localhost:8080/"
        },
        "id": "n6ARG_7IlQZK",
        "outputId": "a03066d3-2cbd-41fc-a852-2bdb9edd3161"
      },
      "execution_count": 10,
      "outputs": [
        {
          "output_type": "stream",
          "name": "stdout",
          "text": [
            "['1.13 cents', '1.24 cents', '2.46 cents', '2.16 cents', '2.94 cents', '4.88 cents', '6.14 cents', '6.26 cents', '8.87 cents', '11.54 cents', '18.33 cents', '15.54 cents', '17.07 cents', '23.76 cents', '32.71 cents', '51.29 cents', '60.44 cents', '71.34 cents', '$1.22', '$4.76', '$10.02', '$15.99', '$42.11']\n"
          ]
        }
      ]
    },
    {
      "cell_type": "markdown",
      "source": [
        "- Cleansing 'avg_list' by removing 'cents', '$' and calculating all the elements so that they are measured in dollar:"
      ],
      "metadata": {
        "id": "qoIniNo_CxQ3"
      }
    },
    {
      "cell_type": "code",
      "source": [
        "cleansed_avg_list = []\n",
        "for avg_cost in avg_list: \n",
        "    cleansed_avg = avg_cost.replace(\" cents\",\"\").replace(\"$\",\"\")\n",
        "    cleansed_avg_list.append(cleansed_avg)\n",
        "print(cleansed_avg_list) "
      ],
      "metadata": {
        "colab": {
          "base_uri": "https://localhost:8080/"
        },
        "id": "1i1qy80KDUH5",
        "outputId": "21ebc3f3-8899-491c-9b73-07a88fafa06a"
      },
      "execution_count": 11,
      "outputs": [
        {
          "output_type": "stream",
          "name": "stdout",
          "text": [
            "['1.13', '1.24', '2.46', '2.16', '2.94', '4.88', '6.14', '6.26', '8.87', '11.54', '18.33', '15.54', '17.07', '23.76', '32.71', '51.29', '60.44', '71.34', '1.22', '4.76', '10.02', '15.99', '42.11']\n"
          ]
        }
      ]
    },
    {
      "cell_type": "markdown",
      "source": [
        "8. Coalesce the cleansed data and save them to a text file named \"census_cost.csv\". The new file should look similar to the original source file except that it is in comma-delimited format and the numbers have been cleansed. The top two lines from the original file should be retained in the new file."
      ],
      "metadata": {
        "id": "zQLcUJG34fXa"
      }
    },
    {
      "cell_type": "code",
      "source": [
        "with open(\"/content/census_costs.csv\", \"w\") as f:\n",
        "    f.writelines(top2_list)\n",
        "\n",
        "    for i in range(len(year_list)):\n",
        "        f.write(str(year_list[i]))\n",
        "        f.write(\",\")\n",
        "        f.write(str(cleansed_pop_list[i]))\n",
        "        f.write(\",\")\n",
        "        f.write(str(cost_list[i]))\n",
        "        f.write(\",\")\n",
        "        f.write(str(avg_list[i]))\n",
        "\n",
        "        if i != (len(year_list)- 1):\n",
        "            f.write(\"\\n\")"
      ],
      "metadata": {
        "id": "5AQ7TO62lmzf"
      },
      "execution_count": 12,
      "outputs": []
    },
    {
      "cell_type": "markdown",
      "source": [
        "9. Code to open the newly-created file \"census_cost.csv\", read all lines and display them:"
      ],
      "metadata": {
        "id": "Yg8_VQq57Oxi"
      }
    },
    {
      "cell_type": "code",
      "source": [
        "with open(\"/content/census_costs.csv\", \"r\") as cfile:\n",
        "    df = cfile.readlines()\n",
        "\n",
        "df"
      ],
      "metadata": {
        "id": "-Pe4OKDHmONi",
        "colab": {
          "base_uri": "https://localhost:8080/"
        },
        "outputId": "470ea7c8-8bff-433f-f855-65faf6c1fce2"
      },
      "execution_count": 13,
      "outputs": [
        {
          "output_type": "execute_result",
          "data": {
            "text/plain": [
              "['Source: https://www.genealogybranches.com/censuscosts.html\\n',\n",
              " 'Census Year\\tTotal Population\\tCensus Cost\\tAverage Cost Per Person\\n',\n",
              " '1790,3929214,$44,377,1.13 cents\\n',\n",
              " '1800,5308483,$66,109,1.24 cents\\n',\n",
              " '1810,7239881,$178,445,2.46 cents\\n',\n",
              " '1820,9633822,$208,526,2.16 cents\\n',\n",
              " '1830,12866020,$378,545,2.94 cents\\n',\n",
              " '1840,17069458,$833,371,4.88 cents\\n',\n",
              " '1850,23191876,$1,423,351,6.14 cents\\n',\n",
              " '1860,31443321,$1,969,377,6.26 cents\\n',\n",
              " '1870,38558371,$3,421,198,8.87 cents\\n',\n",
              " '1880,50155783,$5,790,678,11.54 cents\\n',\n",
              " '1890,62979766,$11,547,127,18.33 cents\\n',\n",
              " '1900,76303387,$11,854,000,15.54 cents\\n',\n",
              " '1910,91972266,$15,968,000,17.07 cents\\n',\n",
              " '1920,105710620,$25,117,000,23.76 cents\\n',\n",
              " '1930,122775046,$40,156,000,32.71 cents\\n',\n",
              " '1940,131669275,$67,527,000,51.29 cents\\n',\n",
              " '1950,151325798,$91,462,000,60.44 cents\\n',\n",
              " '1960,179323175,$127,934,000,71.34 cents\\n',\n",
              " '1970,203302031,$247,653,000,$1.22\\n',\n",
              " '1980,226542199,$1,078,488,000,$4.76\\n',\n",
              " '1990,248718301,$2,492,830,000,$10.02\\n',\n",
              " '2000,281421906,$4.5 Billion,$15.99\\n',\n",
              " '2010,308745538,$13 Billion,$42.11']"
            ]
          },
          "metadata": {},
          "execution_count": 13
        }
      ]
    },
    {
      "cell_type": "code",
      "source": [
        ""
      ],
      "metadata": {
        "id": "ccI55SOB7U7-"
      },
      "execution_count": 13,
      "outputs": []
    }
  ]
}