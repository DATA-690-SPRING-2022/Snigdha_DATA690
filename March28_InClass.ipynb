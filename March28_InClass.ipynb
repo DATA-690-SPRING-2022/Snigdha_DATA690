{
  "nbformat": 4,
  "nbformat_minor": 0,
  "metadata": {
    "colab": {
      "name": "March28_InClass.ipynb",
      "provenance": [],
      "authorship_tag": "ABX9TyPiY/l/cAWM2U0/mvAleFdN",
      "include_colab_link": true
    },
    "kernelspec": {
      "name": "python3",
      "display_name": "Python 3"
    },
    "language_info": {
      "name": "python"
    }
  },
  "cells": [
    {
      "cell_type": "markdown",
      "metadata": {
        "id": "view-in-github",
        "colab_type": "text"
      },
      "source": [
        "<a href=\"https://colab.research.google.com/github/SnigdhaPanakanti/Snigdha_DATA690/blob/main/March28_InClass.ipynb\" target=\"_parent\"><img src=\"https://colab.research.google.com/assets/colab-badge.svg\" alt=\"Open In Colab\"/></a>"
      ]
    },
    {
      "cell_type": "markdown",
      "source": [
        ""
      ],
      "metadata": {
        "id": "6fR6eMug0qpR"
      }
    },
    {
      "cell_type": "markdown",
      "source": [
        ""
      ],
      "metadata": {
        "id": "4kU1FPiM0qcc"
      }
    },
    {
      "cell_type": "code",
      "execution_count": 4,
      "metadata": {
        "id": "LzCanBpK0mFj"
      },
      "outputs": [],
      "source": [
        "import random"
      ]
    },
    {
      "cell_type": "code",
      "source": [
        "# Assign 0 to A, 1 to B, 2 to C, 3 to D\n",
        "\n",
        "team_list = [\"A\",\"B\",\"C\",\"D\"]\n",
        "\n",
        "# print(\"Team\", team_list[random.randint(0,3)], \"is randomly selected to present\")\n",
        "\n",
        "print(\"Team\", random.choice(team_list), \"is randomly selected to present\")"
      ],
      "metadata": {
        "colab": {
          "base_uri": "https://localhost:8080/"
        },
        "id": "Hc1B3rbM0rvr",
        "outputId": "57186def-aaed-4287-c343-d6e40fe0706b"
      },
      "execution_count": 12,
      "outputs": [
        {
          "output_type": "stream",
          "name": "stdout",
          "text": [
            "Team D is randomly selected to present\n"
          ]
        }
      ]
    },
    {
      "cell_type": "code",
      "source": [
        "team_dict = {\n",
        "    \"A\":0,\n",
        "    \"B\":0,\n",
        "    \"C\":0,\n",
        "    \"D\":0\n",
        "\n",
        "}\n",
        "\n",
        "for i in range (1000000):      # range(start,stop, stop); range(0,10,1), shortcut is range(10)\n",
        "    #team_dict[random.choice(team_list)] += 1\n",
        "    team_dict[random.choice(list(team_dict.keys()))] += 1\n",
        "\n",
        "print(team_dict)\n"
      ],
      "metadata": {
        "colab": {
          "base_uri": "https://localhost:8080/"
        },
        "id": "KDT1Yg3_2dBJ",
        "outputId": "009b6d24-d3ba-4c97-cb39-9ed7cbe59623"
      },
      "execution_count": 18,
      "outputs": [
        {
          "output_type": "stream",
          "name": "stdout",
          "text": [
            "{'A': 250827, 'B': 248930, 'C': 250087, 'D': 250156}\n"
          ]
        }
      ]
    },
    {
      "cell_type": "code",
      "source": [
        "team_dict.keys()"
      ],
      "metadata": {
        "colab": {
          "base_uri": "https://localhost:8080/"
        },
        "id": "Mzli0D1m4nE4",
        "outputId": "f40b0f46-f13e-4b58-dca4-867fa0af730c"
      },
      "execution_count": 16,
      "outputs": [
        {
          "output_type": "execute_result",
          "data": {
            "text/plain": [
              "dict_keys(['A', 'B', 'C', 'D'])"
            ]
          },
          "metadata": {},
          "execution_count": 16
        }
      ]
    },
    {
      "cell_type": "code",
      "source": [
        ""
      ],
      "metadata": {
        "id": "zdwK3ngk5Bap"
      },
      "execution_count": null,
      "outputs": []
    }
  ]
}