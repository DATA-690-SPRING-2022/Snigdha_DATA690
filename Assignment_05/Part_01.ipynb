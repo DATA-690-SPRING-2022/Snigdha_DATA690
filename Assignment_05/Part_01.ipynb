{
  "nbformat": 4,
  "nbformat_minor": 0,
  "metadata": {
    "colab": {
      "name": "Part-01.ipynb",
      "provenance": [],
      "authorship_tag": "ABX9TyP3EJwiisnIODgYZ3prIvXE",
      "include_colab_link": true
    },
    "kernelspec": {
      "name": "python3",
      "display_name": "Python 3"
    },
    "language_info": {
      "name": "python"
    }
  },
  "cells": [
    {
      "cell_type": "markdown",
      "metadata": {
        "id": "view-in-github",
        "colab_type": "text"
      },
      "source": [
        "<a href=\"https://colab.research.google.com/github/SnigdhaPanakanti/Snigdha_DATA690/blob/main/Assignment_05/Part_01.ipynb\" target=\"_parent\"><img src=\"https://colab.research.google.com/assets/colab-badge.svg\" alt=\"Open In Colab\"/></a>"
      ]
    },
    {
      "cell_type": "markdown",
      "source": [
        "# **Assignment - 05**\n",
        "\n",
        "Name: Snigdha Panakanti <br/>\n",
        "Date: 03/02/2022"
      ],
      "metadata": {
        "id": "RxYtmwkjMvYZ"
      }
    },
    {
      "cell_type": "markdown",
      "source": [
        "## PART - 01: Introduction \n",
        "\n"
      ],
      "metadata": {
        "id": "rCWVF8EoMvK2"
      }
    },
    {
      "cell_type": "markdown",
      "source": [
        " ### What is Data Analysis?"
      ],
      "metadata": {
        "id": "8AAjon46Mu7j"
      }
    },
    {
      "cell_type": "markdown",
      "source": [
        "- The process of inspecting, cleaning, transforming, and modeling data to discover useful information, draw conclusions, and support decision making."
      ],
      "metadata": {
        "id": "wcZFV_epOLza"
      }
    },
    {
      "cell_type": "markdown",
      "source": [
        "### Data Analysis Tools:"
      ],
      "metadata": {
        "id": "vLcr--29Px1F"
      }
    },
    {
      "cell_type": "markdown",
      "source": [
        "- There are 2 main categories:\n",
        "  - Auto-managed closed tools\n",
        "  - Programming languages"
      ],
      "metadata": {
        "id": "l5QPGzjuQKVH"
      }
    },
    {
      "cell_type": "markdown",
      "source": [
        "- Auto-managed closed Tools:\n",
        "      - The tools that we can buy and use right out of the box such as Excel, Tableau and looker.\n",
        "    \n",
        "      - Advantages & Disadvantages:\n",
        "              - Closed source\n",
        "              - Expensive\n",
        "              - Limited\n",
        "              - Easy to learn\n",
        "          "
      ],
      "metadata": {
        "id": "rreB-cU-QLZk"
      }
    },
    {
      "cell_type": "markdown",
      "source": [
        "- Programming Languages (or) open tools:\n",
        "      - The combination of open source libraries and products. Not sold by any individual vendor.\n",
        "      - Python, R, and Julia are the most popular languages.\n",
        "\n",
        "      - Advantages & Disadvantages:\n",
        "              - Open source\n",
        "              - Free (or very low in cost)\n",
        "              - Extremely powerful\n",
        "              - Steep learning curve"
      ],
      "metadata": {
        "id": "IFANNJ2NQL54"
      }
    },
    {
      "cell_type": "markdown",
      "source": [
        "### Why Python for Data Analysis?"
      ],
      "metadata": {
        "id": "Ccsx2W5gQMfb"
      }
    },
    {
      "cell_type": "markdown",
      "source": [
        "- Python is the best programming language to learn to code. Its simple, intuitive and unreadable.\n",
        "- It includes 1000s of powerful libraries. \n",
        "- Python is free and open source.\n",
        "- Many major institutions rely on python everyday.\n",
        "- Python has an amazing community, documentation and conferences."
      ],
      "metadata": {
        "id": "tsGrVPdkIGMh"
      }
    },
    {
      "cell_type": "markdown",
      "source": [
        "- When to choose R?\n",
        "      - We choose Python because it is easy to use and has general libraries and tools.\n",
        "      - R also has a huge library of statistical functions.\n",
        "      - When dealing with advanced statistical methods or needed extreme performance, R can be used."
      ],
      "metadata": {
        "id": "KaHI2GavIHbc"
      }
    },
    {
      "cell_type": "markdown",
      "source": [
        "### Data Analysis Process:"
      ],
      "metadata": {
        "id": "QWfl3HMzIHTA"
      }
    },
    {
      "cell_type": "markdown",
      "source": [
        "- The process follows the steps:\n",
        "    - **Data Extraction:** Usually from the user's own database or can be extracted from files stored in different formats or web API.\n",
        "    - **Data Cleaning:** Cleansing the data depending upon the source.\n",
        "    - **Data Wrangling:** The objective of this step is to rearrange, reshape and get the data ready for better analysis, tranforming fields, merging tables, combining data from multiple sources, etc.,\n",
        "    - **Analysis:** This process is to extract the patterns from the data that is cleansed in the previous step. Statistical analysis will be fundamental in this process.\n",
        "    - **Action:** The data is now ready to be implemented in ML model if it is a part of a Data Science project. Else, if the data is strictly for analysis, it need to be build reports, communicate the result and support the decision making.\n"
      ],
      "metadata": {
        "id": "SMRkpFpZIHFi"
      }
    },
    {
      "cell_type": "markdown",
      "source": [
        "### What is the difference between Data Analysis vs Data Science"
      ],
      "metadata": {
        "id": "ZhlDZZI5IG5w"
      }
    },
    {
      "cell_type": "markdown",
      "source": [
        "- The boundaries between Data Analysis and Data Science are not very clear. \n",
        "- Data Scientists usually have more programming and math skills which they apply these skills in Machine Learning and ETL processes.\n",
        "\n",
        "- Data Analysts, on the other hand, have better communication skills, creating better reports, with stronger storytelling abilities.\n"
      ],
      "metadata": {
        "id": "WGhGf5wXIGj5"
      }
    },
    {
      "cell_type": "markdown",
      "source": [
        "### Python & PyData Ecosystem"
      ],
      "metadata": {
        "id": "l0sJDLq3aCb7"
      }
    },
    {
      "cell_type": "markdown",
      "source": [
        "- The libraries we use are:\n",
        "     - pandas: The cornerstone of our Data Analysis job with Python\n",
        "     - matplotlib: The foundational library for visualizations. Other libraries we’ll use will be built on top of matplotlib.\n",
        "     - numpy: The numeric library that serves as the foundation of all calculations in Python.\n",
        "     - seaborn: A statistical visualization tool built on top of matplotlib.\n",
        "     - statsmodels: A library with many advanced statistical functions.\n",
        "     - scipy: Advanced scientific computing, including functions for optimization, linear algebra, image processing and much more.\n",
        "     - scikit-learn: The most popular machine learning library for Python (not deep learning)\n"
      ],
      "metadata": {
        "id": "b8MoFExZaC4N"
      }
    },
    {
      "cell_type": "markdown",
      "source": [
        "### How Python Data Analysts think?"
      ],
      "metadata": {
        "id": "54TM3L4yaDSZ"
      }
    },
    {
      "cell_type": "markdown",
      "source": [
        "- Traditional Data Analysis uses visual tools like Excel and tableau.\n",
        "- All the tools are \"point and click\" and works great for small amount of data.\n",
        "- It’s just impossible for humans to visually reference too much data, and the processing gets incredibly slow.\n"
      ],
      "metadata": {
        "id": "hiih57ZokuD9"
      }
    },
    {
      "cell_type": "markdown",
      "source": [
        "### Why Python?"
      ],
      "metadata": {
        "id": "OZM8zAASktuR"
      }
    },
    {
      "cell_type": "markdown",
      "source": [
        "- According to PayScale, Data Analysts that know Python and SQL are better paid than the ones that don’t know how to use programming tools.\n"
      ],
      "metadata": {
        "id": "3jLiGHSLlvWo"
      }
    }
  ]
}