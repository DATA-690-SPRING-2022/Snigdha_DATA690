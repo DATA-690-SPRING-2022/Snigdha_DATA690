{
 "cells": [
  {
   "cell_type": "markdown",
   "metadata": {},
   "source": [
    "## Assignment 02"
   ]
  },
  {
   "cell_type": "code",
   "execution_count": 1,
   "metadata": {},
   "outputs": [],
   "source": [
    "import math"
   ]
  },
  {
   "cell_type": "code",
   "execution_count": 2,
   "metadata": {},
   "outputs": [
    {
     "name": "stdout",
     "output_type": "stream",
     "text": [
      "Enter the inputs: \n",
      "3\n",
      "9\n",
      "4\n",
      "1\n",
      "0\n",
      "6\n",
      "8\n",
      "5\n",
      "7\n",
      "2\n",
      "Final list is: [3, 9, 4, 1, 0, 6, 8, 5, 7, 2]\n",
      "Length of the list: 10\n"
     ]
    }
   ],
   "source": [
    "print(\"Enter the inputs: \")\n",
    "x = []\n",
    "while True:\n",
    "    try:\n",
    "        for i in range(10):\n",
    "            y = int(input())\n",
    "            x.append(y)\n",
    "        break\n",
    "    except:\n",
    "        print(\"Invalid input data type\")\n",
    "        print(\"Must be integer only \\n Please try again\")\n",
    "        x.clear()\n",
    "        continue\n",
    "l = len(x)\n",
    "print(\"Final list is:\",x)\n",
    "print(\"Length of the list:\", len(x))"
   ]
  },
  {
   "cell_type": "markdown",
   "metadata": {},
   "source": [
    "#### Statistics from the given list:\n",
    "- ##### Minimum Value:"
   ]
  },
  {
   "cell_type": "code",
   "execution_count": 3,
   "metadata": {},
   "outputs": [
    {
     "name": "stdout",
     "output_type": "stream",
     "text": [
      "Say, minimum number is:  3\n",
      "Value is large\n",
      "Value is large\n",
      "Value is large\n",
      "Minimum number changed to: 1\n",
      "Minimum number changed to: 0\n",
      "Value is large\n",
      "Value is large\n",
      "Value is large\n",
      "Value is large\n",
      "Value is large\n",
      "\n",
      "\n",
      "Minimum number: 0\n"
     ]
    }
   ],
   "source": [
    "# Let us consider the first element as minimum number\n",
    "minimum = x[0]\n",
    "print(\"Say, minimum number is: \", minimum)\n",
    "# Comparing each element in the list with the minimum number\n",
    "for i in range(l):\n",
    "    if x[i]<minimum:\n",
    "        minimum = x[i]\n",
    "        print(\"Minimum number changed to:\", minimum)\n",
    "    else:\n",
    "        print(\"Value is large\")\n",
    "print(\"\\n\")\n",
    "print(\"Minimum number:\", minimum)"
   ]
  },
  {
   "cell_type": "markdown",
   "metadata": {},
   "source": [
    "- ##### Maximum Value:"
   ]
  },
  {
   "cell_type": "code",
   "execution_count": 4,
   "metadata": {},
   "outputs": [
    {
     "name": "stdout",
     "output_type": "stream",
     "text": [
      "Say, maximum number is:  3\n",
      "Value is small\n",
      "Maximum number changed to: 9\n",
      "Value is small\n",
      "Value is small\n",
      "Value is small\n",
      "Value is small\n",
      "Value is small\n",
      "Value is small\n",
      "Value is small\n",
      "Value is small\n",
      "\n",
      "\n",
      "Maximum number: 9\n"
     ]
    }
   ],
   "source": [
    "# Let us consider the first element as maximum number\n",
    "maximum = x[0]\n",
    "print(\"Say, maximum number is: \", maximum)\n",
    "# Comparing each element in the list with the maximum number\n",
    "for i in range(l):\n",
    "    if x[i]>maximum:\n",
    "        maximum = x[i]\n",
    "        print(\"Maximum number changed to:\", maximum)\n",
    "    else:\n",
    "        print(\"Value is small\")\n",
    "print(\"\\n\")\n",
    "print(\"Maximum number:\", maximum)"
   ]
  },
  {
   "cell_type": "markdown",
   "metadata": {},
   "source": [
    "- ##### Range:"
   ]
  },
  {
   "cell_type": "code",
   "execution_count": 5,
   "metadata": {},
   "outputs": [
    {
     "name": "stdout",
     "output_type": "stream",
     "text": [
      "Range: 10\n"
     ]
    }
   ],
   "source": [
    "count = 0\n",
    "for i in x:\n",
    "    count = count + 1\n",
    "    \n",
    "print(\"Range:\", count)"
   ]
  },
  {
   "cell_type": "markdown",
   "metadata": {},
   "source": [
    "- ##### Mean:"
   ]
  },
  {
   "cell_type": "code",
   "execution_count": 6,
   "metadata": {},
   "outputs": [
    {
     "name": "stdout",
     "output_type": "stream",
     "text": [
      "Sum of all the elements in list: 45\n",
      "Mean: 4.5\n"
     ]
    }
   ],
   "source": [
    "# Mean is average of the list of numbers.\n",
    "sum_of_elements = sum(x)\n",
    "print(\"Sum of all the elements in list:\", sum_of_elements)\n",
    "mean = sum_of_elements/l\n",
    "print(\"Mean:\", mean)"
   ]
  },
  {
   "cell_type": "markdown",
   "metadata": {},
   "source": [
    "- ##### Variance:"
   ]
  },
  {
   "cell_type": "code",
   "execution_count": 7,
   "metadata": {},
   "outputs": [
    {
     "name": "stdout",
     "output_type": "stream",
     "text": [
      "Mean: 4.5\n",
      "Deviations: 82.5\n",
      "Variance: 9.166666666666666\n"
     ]
    }
   ],
   "source": [
    "# Variance is average of the squared differences from the mean.\n",
    "print(\"Mean:\", mean)\n",
    "d = sum((x[i]-mean) ** 2 for i in x)\n",
    "print(\"Deviations:\", d)\n",
    "variance = d/(l-1)\n",
    "print(\"Variance:\", variance)"
   ]
  },
  {
   "cell_type": "markdown",
   "metadata": {},
   "source": [
    "- ##### Standard Deviation:"
   ]
  },
  {
   "cell_type": "code",
   "execution_count": 8,
   "metadata": {},
   "outputs": [
    {
     "name": "stdout",
     "output_type": "stream",
     "text": [
      "Variance: 9.166666666666666\n",
      "Standard Deviation: 3.0276503540974917\n"
     ]
    }
   ],
   "source": [
    "# Standard Deviation is square root of the variance\n",
    "print(\"Variance:\", variance)\n",
    "std_deviation = math.sqrt(variance)\n",
    "print(\"Standard Deviation:\", std_deviation)"
   ]
  }
 ],
 "metadata": {
  "kernelspec": {
   "display_name": "Python 3",
   "language": "python",
   "name": "python3"
  },
  "language_info": {
   "codemirror_mode": {
    "name": "ipython",
    "version": 3
   },
   "file_extension": ".py",
   "mimetype": "text/x-python",
   "name": "python",
   "nbconvert_exporter": "python",
   "pygments_lexer": "ipython3",
   "version": "3.7.6"
  }
 },
 "nbformat": 4,
 "nbformat_minor": 4
}
