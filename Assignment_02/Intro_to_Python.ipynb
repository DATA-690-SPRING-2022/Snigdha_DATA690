{
  "nbformat": 4,
  "nbformat_minor": 0,
  "metadata": {
    "colab": {
      "name": "Intro to Python.ipynb",
      "provenance": [],
      "collapsed_sections": [],
      "authorship_tag": "ABX9TyOP4EdtDeKZ1c/IZXRIksjq",
      "include_colab_link": true
    },
    "kernelspec": {
      "name": "python3",
      "display_name": "Python 3"
    },
    "language_info": {
      "name": "python"
    }
  },
  "cells": [
    {
      "cell_type": "markdown",
      "metadata": {
        "id": "view-in-github",
        "colab_type": "text"
      },
      "source": [
        "<a href=\"https://colab.research.google.com/github/SnigdhaPanakanti/Snigdha_DATA690/blob/main/Assignment_02/Intro_to_Python.ipynb\" target=\"_parent\"><img src=\"https://colab.research.google.com/assets/colab-badge.svg\" alt=\"Open In Colab\"/></a>"
      ]
    },
    {
      "cell_type": "markdown",
      "source": [
        "# **Introduction to Python**\n",
        "## **Practice**\n",
        "\n",
        "- **Student Name:** Snigdha Panakanti <br/>\n",
        "- **Instructor:** Prof Dr. Wang <br/>\n",
        "- **Date:** 02/08/2022"
      ],
      "metadata": {
        "id": "k6VJ5oN7ZXNC"
      }
    },
    {
      "cell_type": "markdown",
      "source": [
        "## **#1**"
      ],
      "metadata": {
        "id": "DzXjlPXagZPZ"
      }
    },
    {
      "cell_type": "code",
      "source": [
        "x = 5\n",
        "print(x) \n"
      ],
      "metadata": {
        "colab": {
          "base_uri": "https://localhost:8080/"
        },
        "id": "ufchz3MUaT_N",
        "outputId": "2e849328-0ce6-4fa2-86c2-9da31b54daea"
      },
      "execution_count": null,
      "outputs": [
        {
          "output_type": "stream",
          "name": "stdout",
          "text": [
            "5\n"
          ]
        }
      ]
    },
    {
      "cell_type": "code",
      "source": [
        "type(x)"
      ],
      "metadata": {
        "colab": {
          "base_uri": "https://localhost:8080/"
        },
        "id": "6j2tRKlKbqrr",
        "outputId": "7925834f-aad9-48e0-8923-15db306bcf77"
      },
      "execution_count": null,
      "outputs": [
        {
          "output_type": "execute_result",
          "data": {
            "text/plain": [
              "int"
            ]
          },
          "metadata": {},
          "execution_count": 3
        }
      ]
    },
    {
      "cell_type": "code",
      "source": [
        "y = \"Instructor - Dr. Wang\"\n",
        "print(y)"
      ],
      "metadata": {
        "colab": {
          "base_uri": "https://localhost:8080/"
        },
        "id": "ALCSwHWGb0f0",
        "outputId": "7ca94ebe-b032-488a-a622-037c59ba18a2"
      },
      "execution_count": null,
      "outputs": [
        {
          "output_type": "stream",
          "name": "stdout",
          "text": [
            "Instructor - Dr. Wang\n"
          ]
        }
      ]
    },
    {
      "cell_type": "code",
      "source": [
        "type(y)"
      ],
      "metadata": {
        "colab": {
          "base_uri": "https://localhost:8080/"
        },
        "id": "NjRRetLXcAtb",
        "outputId": "cd51b7dc-1c4c-4946-9e19-f025156d2074"
      },
      "execution_count": null,
      "outputs": [
        {
          "output_type": "execute_result",
          "data": {
            "text/plain": [
              "str"
            ]
          },
          "metadata": {},
          "execution_count": 6
        }
      ]
    },
    {
      "cell_type": "code",
      "source": [
        "z = [1, -3, 5, 10, -2]\n",
        "print(z)"
      ],
      "metadata": {
        "colab": {
          "base_uri": "https://localhost:8080/"
        },
        "id": "ZJ3ZfYSncMHg",
        "outputId": "dd231860-9403-431b-b4e4-375edd0fb950"
      },
      "execution_count": null,
      "outputs": [
        {
          "output_type": "stream",
          "name": "stdout",
          "text": [
            "[1, -3, 5, 10, -2]\n"
          ]
        }
      ]
    },
    {
      "cell_type": "code",
      "source": [
        "type(z)"
      ],
      "metadata": {
        "colab": {
          "base_uri": "https://localhost:8080/"
        },
        "id": "YDMJT2wWcYs_",
        "outputId": "ab59382b-996d-4083-af56-44b212974944"
      },
      "execution_count": null,
      "outputs": [
        {
          "output_type": "execute_result",
          "data": {
            "text/plain": [
              "list"
            ]
          },
          "metadata": {},
          "execution_count": 8
        }
      ]
    },
    {
      "cell_type": "code",
      "source": [
        "a = list(y)\n",
        "print(a)"
      ],
      "metadata": {
        "colab": {
          "base_uri": "https://localhost:8080/"
        },
        "id": "8R7gT7vScbQw",
        "outputId": "0c35716f-145f-48e1-fda2-512e97b59b33"
      },
      "execution_count": null,
      "outputs": [
        {
          "output_type": "stream",
          "name": "stdout",
          "text": [
            "['I', 'n', 's', 't', 'r', 'u', 'c', 't', 'o', 'r', ' ', '-', ' ', 'D', 'r', '.', ' ', 'W', 'a', 'n', 'g']\n"
          ]
        }
      ]
    },
    {
      "cell_type": "code",
      "source": [
        "len(a)"
      ],
      "metadata": {
        "colab": {
          "base_uri": "https://localhost:8080/"
        },
        "id": "xI4nj7nPcpCB",
        "outputId": "1cdaa898-2751-417a-9546-c32afe1408e8"
      },
      "execution_count": null,
      "outputs": [
        {
          "output_type": "execute_result",
          "data": {
            "text/plain": [
              "21"
            ]
          },
          "metadata": {},
          "execution_count": 13
        }
      ]
    },
    {
      "cell_type": "code",
      "source": [
        "a[0:10]  #[start:stop]"
      ],
      "metadata": {
        "colab": {
          "base_uri": "https://localhost:8080/"
        },
        "id": "kHaVOe4Uc0Kb",
        "outputId": "a6e5e835-1502-4ee2-d847-45696d97313f"
      },
      "execution_count": null,
      "outputs": [
        {
          "output_type": "execute_result",
          "data": {
            "text/plain": [
              "['I', 'n', 's', 't', 'r', 'u', 'c', 't', 'o', 'r']"
            ]
          },
          "metadata": {},
          "execution_count": 18
        }
      ]
    },
    {
      "cell_type": "code",
      "source": [
        "a[11]"
      ],
      "metadata": {
        "colab": {
          "base_uri": "https://localhost:8080/",
          "height": 35
        },
        "id": "-MtRx1fVdPi6",
        "outputId": "3290c211-32b8-4cbc-e7af-d6c9c0b7d116"
      },
      "execution_count": null,
      "outputs": [
        {
          "output_type": "execute_result",
          "data": {
            "application/vnd.google.colaboratory.intrinsic+json": {
              "type": "string"
            },
            "text/plain": [
              "'-'"
            ]
          },
          "metadata": {},
          "execution_count": 17
        }
      ]
    },
    {
      "cell_type": "code",
      "source": [
        "a[20]  #Last element in the list"
      ],
      "metadata": {
        "colab": {
          "base_uri": "https://localhost:8080/",
          "height": 35
        },
        "id": "noCQOpP8dZ1N",
        "outputId": "c4eab9af-fe8f-492f-9163-5ee7a20bbd61"
      },
      "execution_count": null,
      "outputs": [
        {
          "output_type": "execute_result",
          "data": {
            "application/vnd.google.colaboratory.intrinsic+json": {
              "type": "string"
            },
            "text/plain": [
              "'g'"
            ]
          },
          "metadata": {},
          "execution_count": 20
        }
      ]
    },
    {
      "cell_type": "code",
      "source": [
        "a[-1]  #Last element in the list"
      ],
      "metadata": {
        "colab": {
          "base_uri": "https://localhost:8080/",
          "height": 35
        },
        "id": "qCzitliwd6ml",
        "outputId": "5e0e2dc8-c0ae-4c83-a2e7-d07a9a12c394"
      },
      "execution_count": null,
      "outputs": [
        {
          "output_type": "execute_result",
          "data": {
            "application/vnd.google.colaboratory.intrinsic+json": {
              "type": "string"
            },
            "text/plain": [
              "'g'"
            ]
          },
          "metadata": {},
          "execution_count": 21
        }
      ]
    },
    {
      "cell_type": "code",
      "source": [
        "a[0]  #First element of the list"
      ],
      "metadata": {
        "colab": {
          "base_uri": "https://localhost:8080/",
          "height": 35
        },
        "id": "29MxbGgneAho",
        "outputId": "1cc12eb7-9360-49fa-aeeb-032e3fd0b9fe"
      },
      "execution_count": null,
      "outputs": [
        {
          "output_type": "execute_result",
          "data": {
            "application/vnd.google.colaboratory.intrinsic+json": {
              "type": "string"
            },
            "text/plain": [
              "'I'"
            ]
          },
          "metadata": {},
          "execution_count": 23
        }
      ]
    },
    {
      "cell_type": "code",
      "source": [
        "a[len(a)]  #Error"
      ],
      "metadata": {
        "id": "OJZFAYotej0j"
      },
      "execution_count": null,
      "outputs": []
    },
    {
      "cell_type": "code",
      "source": [
        "a[len(a)-1]"
      ],
      "metadata": {
        "colab": {
          "base_uri": "https://localhost:8080/",
          "height": 35
        },
        "id": "A9RMtgiveIDr",
        "outputId": "60e78d70-e9b2-4904-a894-4ede616511ed"
      },
      "execution_count": null,
      "outputs": [
        {
          "output_type": "execute_result",
          "data": {
            "application/vnd.google.colaboratory.intrinsic+json": {
              "type": "string"
            },
            "text/plain": [
              "'g'"
            ]
          },
          "metadata": {},
          "execution_count": 24
        }
      ]
    },
    {
      "cell_type": "code",
      "source": [
        "y = \"DATA 609 Instructor - Dr. Wang \"\n",
        "y"
      ],
      "metadata": {
        "colab": {
          "base_uri": "https://localhost:8080/",
          "height": 35
        },
        "id": "bTSNc8nkeYF4",
        "outputId": "5253bd48-ff96-44a2-c041-dcba8871e249"
      },
      "execution_count": null,
      "outputs": [
        {
          "output_type": "execute_result",
          "data": {
            "application/vnd.google.colaboratory.intrinsic+json": {
              "type": "string"
            },
            "text/plain": [
              "'DATA 609 Instructor - Dr. Wang '"
            ]
          },
          "metadata": {},
          "execution_count": 26
        }
      ]
    },
    {
      "cell_type": "code",
      "source": [
        "print(list(y))"
      ],
      "metadata": {
        "colab": {
          "base_uri": "https://localhost:8080/"
        },
        "id": "8WwPfyg_fNgi",
        "outputId": "3077e0b7-e64a-4d41-c2c3-f16e44ac2d69"
      },
      "execution_count": null,
      "outputs": [
        {
          "output_type": "stream",
          "name": "stdout",
          "text": [
            "['D', 'A', 'T', 'A', ' ', '6', '0', '9', ' ', 'I', 'n', 's', 't', 'r', 'u', 'c', 't', 'o', 'r', ' ', '-', ' ', 'D', 'r', '.', ' ', 'W', 'a', 'n', 'g', ' ']\n"
          ]
        }
      ]
    },
    {
      "cell_type": "code",
      "source": [
        "y.split(\" \")"
      ],
      "metadata": {
        "colab": {
          "base_uri": "https://localhost:8080/"
        },
        "id": "0Z9XqL1vfd8N",
        "outputId": "cea489fd-79f2-4bc6-eb19-9d5e3befb41a"
      },
      "execution_count": null,
      "outputs": [
        {
          "output_type": "execute_result",
          "data": {
            "text/plain": [
              "['DATA', '609', 'Instructor', '-', 'Dr.', 'Wang', '']"
            ]
          },
          "metadata": {},
          "execution_count": 32
        }
      ]
    },
    {
      "cell_type": "code",
      "source": [
        "print(y.split())"
      ],
      "metadata": {
        "colab": {
          "base_uri": "https://localhost:8080/"
        },
        "id": "fMu5PjS6fgVr",
        "outputId": "2ceb1e54-828b-4472-e8e2-498e33c6cd0e"
      },
      "execution_count": null,
      "outputs": [
        {
          "output_type": "stream",
          "name": "stdout",
          "text": [
            "['DATA', '609', 'Instructor', '-', 'Dr.', 'Wang']\n"
          ]
        }
      ]
    },
    {
      "cell_type": "markdown",
      "source": [
        "## **#2**"
      ],
      "metadata": {
        "id": "DbX5-4KvgQTb"
      }
    },
    {
      "cell_type": "code",
      "source": [
        "x = input(\"Please tell me your age: \")"
      ],
      "metadata": {
        "colab": {
          "base_uri": "https://localhost:8080/"
        },
        "id": "7K-xx0nYggli",
        "outputId": "c1310c19-a439-4b82-fd15-5b167006addf"
      },
      "execution_count": null,
      "outputs": [
        {
          "name": "stdout",
          "output_type": "stream",
          "text": [
            "Please tell me your age: 21\n"
          ]
        }
      ]
    },
    {
      "cell_type": "code",
      "source": [
        "print(\"Your age is:\", x)"
      ],
      "metadata": {
        "colab": {
          "base_uri": "https://localhost:8080/"
        },
        "id": "Y1Cu3LILgoN0",
        "outputId": "8139b11d-bb8d-40f5-d874-b5e49ce1cd05"
      },
      "execution_count": null,
      "outputs": [
        {
          "output_type": "stream",
          "name": "stdout",
          "text": [
            "Your age is: 21\n"
          ]
        }
      ]
    },
    {
      "cell_type": "code",
      "source": [
        "type(x)"
      ],
      "metadata": {
        "colab": {
          "base_uri": "https://localhost:8080/"
        },
        "id": "Zh0Qbb3vgz74",
        "outputId": "9f9dd5f1-b3cd-4752-afee-31783279a1ee"
      },
      "execution_count": null,
      "outputs": [
        {
          "output_type": "execute_result",
          "data": {
            "text/plain": [
              "str"
            ]
          },
          "metadata": {},
          "execution_count": 35
        }
      ]
    },
    {
      "cell_type": "code",
      "source": [
        "y = input(\"What is your age? :\")"
      ],
      "metadata": {
        "colab": {
          "base_uri": "https://localhost:8080/"
        },
        "id": "DVmwKDMWg-dT",
        "outputId": "edb1b65e-d331-44b4-95ca-a3c21d334553"
      },
      "execution_count": null,
      "outputs": [
        {
          "name": "stdout",
          "output_type": "stream",
          "text": [
            "What is your age? : Twenty One\n"
          ]
        }
      ]
    },
    {
      "cell_type": "code",
      "source": [
        "type(y)"
      ],
      "metadata": {
        "colab": {
          "base_uri": "https://localhost:8080/"
        },
        "id": "MZnvGkothdVO",
        "outputId": "e7c4d9e8-517b-451d-866e-d8036ab630dd"
      },
      "execution_count": null,
      "outputs": [
        {
          "output_type": "execute_result",
          "data": {
            "text/plain": [
              "str"
            ]
          },
          "metadata": {},
          "execution_count": 39
        }
      ]
    },
    {
      "cell_type": "code",
      "source": [
        "x = input(\"Your age:\")\n",
        "y = int(x)\n",
        "\n",
        "if y==21:\n",
        "  print(\"You and I have the same age\")\n",
        "elif y>21:\n",
        "  print(\"You are older than me\")\n",
        "else:\n",
        "  print(\"You are younger than me\")"
      ],
      "metadata": {
        "colab": {
          "base_uri": "https://localhost:8080/"
        },
        "id": "2iDLkj0rhkBJ",
        "outputId": "6272dada-7df1-4f7a-8eb2-31d4ecb4e0b0"
      },
      "execution_count": null,
      "outputs": [
        {
          "output_type": "stream",
          "name": "stdout",
          "text": [
            "Your age:21\n",
            "You and I have the same age\n"
          ]
        }
      ]
    },
    {
      "cell_type": "code",
      "source": [
        "while True:\n",
        "    x = input(\"Your age:\")\n",
        "    try: \n",
        "      y = int(x)\n",
        "      break\n",
        "    except:\n",
        "      continue\n",
        "if y==21:\n",
        "   print(\"You and I have the same age\")\n",
        "elif y>21:\n",
        "     print(\"You are older than me\")\n",
        "else:\n",
        "     print(\"You are younger than me\")"
      ],
      "metadata": {
        "id": "pNTk_Hk2j-so",
        "colab": {
          "base_uri": "https://localhost:8080/"
        },
        "outputId": "4f970d06-99a1-42a9-d190-d1d9a0cf9ce4"
      },
      "execution_count": 3,
      "outputs": [
        {
          "output_type": "stream",
          "name": "stdout",
          "text": [
            "Your age:snigdha\n",
            "Your age:21\n",
            "You and I have the same age\n"
          ]
        }
      ]
    },
    {
      "cell_type": "code",
      "source": [
        ""
      ],
      "metadata": {
        "id": "aupeseHosLnb"
      },
      "execution_count": null,
      "outputs": []
    }
  ]
}